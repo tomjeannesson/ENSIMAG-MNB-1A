{
 "cells": [
  {
   "cell_type": "markdown",
   "metadata": {},
   "source": [
    "   # TP de Méthodes Numériques : \n",
    "   # simulation de modèles proies-prédateurs"
   ]
  },
  {
   "cell_type": "markdown",
   "metadata": {},
   "source": [
    "## 1. Introduction"
   ]
  },
  {
   "cell_type": "markdown",
   "metadata": {},
   "source": [
    "On souhaite décrire l'évolution de deux populations en interaction: une population de proies\n",
    "(par exemple des lièvres)\n",
    "et une population de prédateurs (par exemple des lynx).  On note respectivement $x(t)$ et $y(t)$ les effectifs des\n",
    "proies et prédateurs \n",
    "(normalisés par des valeurs de référence) à l'instant $t$.\n",
    "On peut modéliser l'évolution de ces populations\n",
    "à l'aide d'équations différentielles de la forme:\n",
    "\\begin{equation}\n",
    "\\left\\{\n",
    "\\begin{array}{lll}\n",
    "x'(t)&=& x(t) \\, f(x(t),y(t),t) \\\\\n",
    "y'(t) &=& y(t) \\, g(x(t),y(t),t)\n",
    "\\end{array}\n",
    "\\right.\n",
    "\\end{equation}\n",
    "où $f,g$ sont des fonctions $C^1$ qui décrivent les taux de croissance de chaque population.\n",
    "La fonction $y\\mapsto f(x,y,t)$ est décroissante (terme de prédation) et\n",
    "$x\\mapsto g(x,y,t)$ est croissante.\n",
    "Par ailleurs, on suppose les fonctions \n",
    "$x\\mapsto f(x,y,t)$ et $y\\mapsto g(x,y,t)$ décroissantes\n",
    "si on veut prendre en compte une quantité limitée de nourriture.\n",
    "La dépendance de $f,g$ par rapport au temps permet\n",
    "de tenir compte des variations saisonnières\n",
    "de la quantité de nourriture et des taux de natalité."
   ]
  },
  {
   "cell_type": "markdown",
   "metadata": {},
   "source": [
    "## 2. Equation de Lotka-Volterra"
   ]
  },
  {
   "cell_type": "markdown",
   "metadata": {},
   "source": [
    "Il s'agit d'une version très simplifiée du modèle précédent, dans laquelle \n",
    "la population de proies dispose de ressources illimitées et \n",
    "l'équation différentielle est autonome, i.e. les fonctions $f,g$ ne\n",
    "dépendent pas de $t$: \n",
    "\\begin{equation}\n",
    "\\left\\{\n",
    "\\begin{array}{lll}\n",
    "x'(t)&=& x(t) ( 1- y(t) ) \\\\\n",
    "y'(t) &=& \\alpha\\, y(t)(x(t)  - 1).\n",
    "\\end{array}\n",
    "\\right.\n",
    "\\end{equation}\n",
    "Le paramètre $\\alpha$ est strictement positif.\n",
    "Pour les calculs numériques, on fixera $\\alpha =1$."
   ]
  },
  {
   "cell_type": "markdown",
   "metadata": {},
   "source": [
    "### 2.1. Analyse du modèle"
   ]
  },
  {
   "cell_type": "code",
   "execution_count": 8,
   "metadata": {},
   "outputs": [],
   "source": [
    "import numpy as np\n",
    "import matplotlib.pyplot as plt\n",
    "import ipywidgets as widgets\n",
    "from tqdm import tqdm"
   ]
  },
  {
   "cell_type": "code",
   "execution_count": 28,
   "metadata": {},
   "outputs": [],
   "source": [
    "def deriv_x_y(x, y, alpha=1):\n",
    "    xdot = x * (1 - y)\n",
    "    ydot = alpha * y * (x - 1)\n",
    "    return xdot, ydot\n",
    "\n",
    "def test_n_episodes(x_0, y_0, alpha=1, n=1000, verbose=True):\n",
    "    t = 0\n",
    "    x = x_0\n",
    "    y = y_0\n",
    "\n",
    "    while t < n:\n",
    "        if t % 1 == 0 and verbose:\n",
    "            print(f\"Episode {t}\\t x = {x}, y = {y}\")\n",
    "        \n",
    "        t += 1\n",
    "        xdot, ydot = deriv_x_y(x, y, alpha)\n",
    "        \n",
    "        if (xdot, ydot) == (0, 0):\n",
    "            if verbose:\n",
    "                print(f\"Fin de la simulation après {t} episodes. (xdot = {xdot}, ydot = {ydot}) => Point d'équilibre\")\n",
    "                print(f\"\\nRESULAT:\\nx = {x}\\ny = {y}\")\n",
    "            return True\n",
    "        \n",
    "        x += xdot\n",
    "        y += ydot\n",
    "        \n",
    "        if x > 10**10:\n",
    "            if verbose:\n",
    "                print(f\"Fin de la simulation après {t} episodes. (x = +inf)\")\n",
    "            break\n",
    "        if x < 0:\n",
    "            if verbose:\n",
    "                print(f\"Fin de la simulation après {t} episodes. (x < 0)\")\n",
    "            break\n",
    "        if y > 10**10:\n",
    "            if verbose:\n",
    "                print(f\"Fin de la simulation après {t} episodes. (y = +inf)\")\n",
    "            break\n",
    "        if y < 0:\n",
    "            if verbose:\n",
    "                print(f\"Fin de la simulation après {t} episodes. (y < 0)\")\n",
    "            break\n",
    "\n",
    "    if verbose:\n",
    "        print(f\"\\nRESULAT:\\nx = {x}\\ny = {y}\")\n",
    "    return True if t == n else False\n",
    "\n",
    "def test_condition_initiale(x_0, y_0, alpha, n=1000, verbose=True):\n",
    "    if test_n_episodes(x_0, y_0, alpha, n, verbose):\n",
    "        if verbose:\n",
    "            print(\"Nous avons trouvé une solution d'équilibre!\")\n",
    "        return True\n",
    "    else:\n",
    "        if verbose:\n",
    "            print(\"Ces conditions initiales ne donnent pas une solution d'équilibre!\")\n",
    "        return False\n",
    "\n",
    "def trouver_conditions_initiales(alpha ,x_0=1000, n=1000):\n",
    "    for y_0 in tqdm(np.linspace(0, 10000, 10000000)):\n",
    "        if test_condition_initiale(x_0, y_0, alpha, n, verbose=False):\n",
    "            return y_0\n",
    "    return -1\n",
    "alpha = 1"
   ]
  },
  {
   "cell_type": "code",
   "execution_count": 89,
   "metadata": {},
   "outputs": [],
   "source": [
    "def schema_num(x_0, y_0, alpha, n):\n",
    "    \"\"\" Fonction qui reprend test_n_episodes mais pour un affichage dynamique \"\"\"\n",
    "    t = 0\n",
    "    x = x_0\n",
    "    y = y_0\n",
    "    timesteps_x = [x_0]\n",
    "    timesteps_y = [y_0]\n",
    "    time = [0]\n",
    "    \n",
    "    while t < n:\n",
    "        t += 1\n",
    "\n",
    "        xdot, ydot = deriv_x_y(x, y, alpha)\n",
    "        if (xdot, ydot) == (0, 0):\n",
    "            break\n",
    "        \n",
    "        x += xdot\n",
    "        y += ydot\n",
    "        \n",
    "        if x >= 1 or x < 0 or  y >= 1 or y < 0:\n",
    "            print(x,y)\n",
    "            break\n",
    "        \n",
    "        time.append(t)\n",
    "        timesteps_x.append(x)\n",
    "        timesteps_y.append(y)\n",
    "    \n",
    "\n",
    "    fig = plt.figure()\n",
    "    fig.set_size_inches(16, 8, forward=True)    \n",
    "    plt.xlim(xmin=0,xmax=len(time)-1)\n",
    "    \n",
    "    plt.plot(time, timesteps_x, label='lievre')\n",
    "    plt.plot(time, timesteps_y, label='lynx')\n",
    "    \n",
    "    plt.title(\"Affichage de notre schema numerique\" ,fontsize=16)\n",
    "    plt.legend()\n",
    "    plt.show()\n",
    "\n",
    "    "
   ]
  },
  {
   "cell_type": "markdown",
   "metadata": {},
   "source": [
    "#### Question 1 \n",
    "Calculer la solution $(x(t),y(t))$ pour la condition initiale\n",
    "$(x(0),y(0))=(0,y_0)$ avec $y_0 \\geq 0$. Quel est son comportement quand $t \\rightarrow +\\infty$ ?\n",
    "Interpréter ce résultat."
   ]
  },
  {
   "cell_type": "code",
   "execution_count": 93,
   "metadata": {},
   "outputs": [
    {
     "data": {
      "application/vnd.jupyter.widget-view+json": {
       "model_id": "3b3023edfe4642338b172d6dadbbbf5f",
       "version_major": 2,
       "version_minor": 0
      },
      "text/plain": [
       "interactive(children=(IntSlider(value=1, description='y_0', max=1, step=0), FloatSlider(value=1.0, description…"
      ]
     },
     "metadata": {},
     "output_type": "display_data"
    }
   ],
   "source": [
    "widgets.interact(schema_num, \n",
    "                 x_0=widgets.fixed(0), \n",
    "                 y_0=widgets.IntSlider(value=1,min=0,max=1,step=0.01), \n",
    "                 alpha=widgets.FloatSlider(value=1,min=0,max=1,step=0.01),\n",
    "                 n=widgets.IntSlider(value=200,min=10,max=1000,step=10));"
   ]
  },
  {
   "cell_type": "markdown",
   "metadata": {},
   "source": [
    "#### _Réponse Question 1_ \n",
    "Pour la condition initiale $(x(0),y(0))=(0 ,y_0)$ avec $y_0 \\geq 0$, nous obtenons la solution: $(x(t), y(t)) \\rightarrow(0, 0)$ lorsque $t \\rightarrow +\\infty$.\n",
    "\n",
    "Ceci s'explique car les proies, qui commencent à 0, ne peuvent pas se reproduire (ils ne vont pas apparaitre de nulle part), et les prédateurs n'ont rien à manger, et que leur population décroit donc (la vitesse à laquelle elle décroit dépend de $\\alpha$)."
   ]
  },
  {
   "cell_type": "markdown",
   "metadata": {},
   "source": [
    "#### Question 2 \n",
    "Mêmes questions pour la condition initiale $(x(0),y(0))=(x_0 ,0)$ avec $x_0 \\geq 0$. "
   ]
  },
  {
   "cell_type": "code",
   "execution_count": 96,
   "metadata": {},
   "outputs": [
    {
     "data": {
      "application/vnd.jupyter.widget-view+json": {
       "model_id": "bd622554fcf540308041f6fa22047b16",
       "version_major": 2,
       "version_minor": 0
      },
      "text/plain": [
       "interactive(children=(FloatSlider(value=1.0, description='x_0', max=1.0, step=0.01), FloatSlider(value=1.0, de…"
      ]
     },
     "metadata": {},
     "output_type": "display_data"
    }
   ],
   "source": [
    "widgets.interact(schema_num, \n",
    "                 x_0=widgets.FloatSlider(value=1,min=0,max=1,step=0.01), \n",
    "                 y_0=widgets.fixed(0), \n",
    "                 alpha=widgets.FloatSlider(value=1,min=0,max=1,step=0.01),\n",
    "                 n=widgets.IntSlider(value=200,min=10,max=1000,step=10));"
   ]
  },
  {
   "cell_type": "markdown",
   "metadata": {},
   "source": [
    "#### _Réponse Question 2_\n",
    "Pour la condition initiale $(x(0),y(0))=(x_0, 0)$ avec $x_0 \\geq 0$, nous obtenons la solution: $(x(t), y(t)) \\rightarrow(+\\infty, 0)$ lorsque $t \\rightarrow +\\infty$.\n",
    "\n",
    "Ceci s'explique car les proies, qui ne sont pas chassées peuvent se reproduire, et les prédateurs ne peuvent pas augmenter leur population, car celle ce commence à 0."
   ]
  },
  {
   "cell_type": "markdown",
   "metadata": {},
   "source": [
    "#### Question 3\n",
    "Déterminer les solutions d'équilibre, i.e. les solutions $(x,y)$ indépendantes de $t$."
   ]
  },
  {
   "cell_type": "code",
   "execution_count": 97,
   "metadata": {},
   "outputs": [
    {
     "data": {
      "application/vnd.jupyter.widget-view+json": {
       "model_id": "23c8e37382eb42a9a5d541779bd2a9fa",
       "version_major": 2,
       "version_minor": 0
      },
      "text/plain": [
       "interactive(children=(FloatSlider(value=1.0, description='x_0', max=1.0, step=0.01), FloatSlider(value=1.0, de…"
      ]
     },
     "metadata": {},
     "output_type": "display_data"
    }
   ],
   "source": [
    "widgets.interact(schema_num, \n",
    "                 x_0=widgets.FloatSlider(value=1,min=0,max=1,step=0.01), \n",
    "                 y_0=widgets.FloatSlider(value=1,min=0,max=2,step=0.01), \n",
    "                 alpha=widgets.FloatSlider(value=1,min=0,max=1,step=0.01),\n",
    "                 n=widgets.IntSlider(value=200,min=10,max=1000,step=10));"
   ]
  },
  {
   "cell_type": "code",
   "execution_count": 98,
   "metadata": {},
   "outputs": [
    {
     "name": "stderr",
     "output_type": "stream",
     "text": [
      "  1%|          | 51822/10000000 [00:00<00:19, 518087.09it/s]"
     ]
    },
    {
     "name": "stdout",
     "output_type": "stream",
     "text": [
      "Test solution 1:\n",
      "Episode 0\t x = 0, y = 10\n",
      "Episode 1\t x = 0, y = 0\n",
      "Fin de la simulation après 2 episodes. (xdot = 0, ydot = 0) => Point d'équilibre\n",
      "\n",
      "RESULAT:\n",
      "x = 0\n",
      "y = 0\n",
      "Nous avons trouvé une solution d'équilibre!\n",
      "Test solution 2:\n"
     ]
    },
    {
     "name": "stderr",
     "output_type": "stream",
     "text": [
      "100%|██████████| 10000000/10000000 [00:14<00:00, 691529.98it/s]"
     ]
    },
    {
     "name": "stdout",
     "output_type": "stream",
     "text": [
      "-1\n"
     ]
    },
    {
     "name": "stderr",
     "output_type": "stream",
     "text": [
      "\n"
     ]
    }
   ],
   "source": [
    "# Premiere solution d'équilibre\n",
    "print(\"Test solution 1:\")\n",
    "x_0, y_0 = 0, 10\n",
    "test_condition_initiale(x_0, y_0, alpha)\n",
    "\n",
    "print(\"Test solution 2:\")\n",
    "# Seconde solution d'équilibre\n",
    "print(trouver_conditions_initiales(alpha, x_0=1 , n=1000))"
   ]
  },
  {
   "cell_type": "markdown",
   "metadata": {},
   "source": [
    "#### Question 4\n",
    "Une fonction $H\\, : \\, ]0,+\\infty[ \\times ]0,+\\infty[ \\rightarrow \\mathbb{R}$\n",
    "est appelée intégrale première de l'équation différentielle\n",
    "lorsque pour toute solution $(x(t),y(t))$ on a $\\frac{d}{dt} H(x(t),y(t))=0$.\n",
    "Vérifier que \n",
    "$$\n",
    "H(x,y)=\\alpha\\, (x-\\ln{x})+y-\\ln{y}\n",
    "$$\n",
    "est une intégrale première."
   ]
  },
  {
   "cell_type": "markdown",
   "metadata": {},
   "source": [
    "#### Question 5\n",
    "Tracer différentes courbes de niveau \n",
    "$H(x,y)=\\mbox{constante}$ (matplotlib.pyplot.contour)\n",
    "ainsi que la direction du champ de vecteurs $F(x,y)=(\\, x ( 1- y )\\, ,\\, \\alpha\\, y(x  - 1)\\, )$ \n",
    "du système (matplotlib.pyplot.quiver) pour $\\alpha =1$."
   ]
  },
  {
   "cell_type": "code",
   "execution_count": 25,
   "metadata": {},
   "outputs": [],
   "source": [
    "%matplotlib inline\n",
    "import matplotlib.cm as cm\n",
    "import matplotlib.pyplot as plt\n",
    "import numpy as np"
   ]
  },
  {
   "cell_type": "markdown",
   "metadata": {},
   "source": [
    "#### Question 6\n",
    "Quand on considère \n",
    "des solutions $(x(t),y(t))$\n",
    "de conditions initiales $(x(0),y(0))$ strictement positives,\n",
    "que peut-on en déduire pour les trajectoires\n",
    "$\\gamma = \\{ (x(t),y(t)),\\, t \\in \\mathbb{R} \\} \\subset {\\left(\\mathbb{R}^+ \\right)}^2 $\n",
    "ainsi que pour les fonctions $t \\mapsto (x(t),y(t))$ ?"
   ]
  },
  {
   "cell_type": "markdown",
   "metadata": {},
   "source": [
    "### 2.2. Intégration Numérique"
   ]
  },
  {
   "cell_type": "markdown",
   "metadata": {},
   "source": [
    "#### 2.2.1. Schéma d'Euler explicite\n",
    "Afin d'approcher numériquement les solutions du modèle de Lotka-Volterra\n",
    "pour $t \\in [0,t_{\\mathrm{max}}]$, \n",
    "on discrétise l'équation à l'aide du schéma d'Euler explicite:\n",
    "\\begin{equation}\n",
    "\\left\\{\n",
    "\\begin{array}{lll}\n",
    "x_{k+1}&=& x_k + h\\, x_k ( 1- y_k ) \\\\\n",
    "y_{k+1} &=& y_k + h\\, y_k (x_k  - 1)\n",
    "\\end{array}\n",
    "\\right.\n",
    "\\end{equation}\n",
    "où $h >0$ est le pas d'intégration en temps et\n",
    "$(x_k,y_k)$ une approximation de $(x(t_k),y (t_k))$ en $t_k = k\\, h$.\n",
    "On fixe $h=t_{\\mathrm{max}}/N$ où $N$ est un entier $\\geq 1$."
   ]
  },
  {
   "cell_type": "markdown",
   "metadata": {},
   "source": [
    "#### Question 7\n",
    "Pour $t_{\\mathrm{max}}=120$, $(x(0),y(0))=(2,1)$ \n",
    "et différentes valeurs du pas de temps $h$, \n",
    "tracer les trajectoires \n",
    "$(x_k,y_k)_{0 \\leq k \\leq N} \\subset {\\left(\\mathbb{R}^+ \\right)}^2$\n",
    "ainsi que les graphes de $x_k$, $y_k$ en fonction de $t_k$. \n",
    "Qu'observez-vous ? Comparer ces résultats à l'étude théorique \n",
    "de la question 6."
   ]
  },
  {
   "cell_type": "markdown",
   "metadata": {},
   "source": [
    "#### 2.2.2. Schéma d'Euler implicite\n",
    "On considère maintenant le schéma d'Euler implicite\n",
    "\\begin{equation}\n",
    "\\left\\{\n",
    "\\begin{array}{lll}\n",
    "x_{k+1}-x_k&=&   h\\, x_{k+1} ( 1- y_{k+1} ) \\\\\n",
    "y_{k+1}-y_k &=&   h\\, y_{k+1} (x_{k+1}  - 1)\n",
    "\\end{array}\n",
    "\\right.\n",
    "\\end{equation}"
   ]
  },
  {
   "cell_type": "markdown",
   "metadata": {},
   "source": [
    "#### Question 8\n",
    "Exprimer $x_{k+1}$ en fonction de $x_k$, $y_{k+1}$ et $h$,\n",
    "puis calculer $y_{k+1}$ en fonction de $(x_k,y_{k},h)$\n",
    "en résolvant une équation du second degré.\n",
    "\n",
    "Remarque: lorsque $h=0$ on doit obtenir $(x_{k+1},y_{k+1})=(x_{k},y_{k})$."
   ]
  },
  {
   "cell_type": "markdown",
   "metadata": {},
   "source": [
    "#### Question 9\n",
    "Reprendre la question 7 pour le schéma d'Euler implicite."
   ]
  },
  {
   "cell_type": "markdown",
   "metadata": {},
   "source": [
    "#### 2.2.3. Schéma d'Euler semi-implicite\n",
    "On considère un schéma d'Euler semi-implicite\n",
    "\\begin{equation}\n",
    "\\left\\{\n",
    "\\begin{array}{lll}\n",
    "x_{k+1}-x_k&=&  h\\, x_{k} ( 1- y_{k+1} ) \\\\\n",
    "y_{k+1} -y_k&=&  h\\, y_{k+1} (x_{k}  - 1)\n",
    "\\end{array}\n",
    "\\right.\n",
    "\\end{equation}\n",
    "dans lequel la variable $x$ est traitée de manière explicite\n",
    "(évaluée en $t=t_{k}$ dans le second membre de l'équation différentielle)\n",
    "et $y$ de manière implicite (évaluée en $t=t_{k+1}$)."
   ]
  },
  {
   "cell_type": "markdown",
   "metadata": {},
   "source": [
    "#### Question 10\n",
    "Exprimer $(x_{k+1},y_{k+1})$ en fonction de $(x_k,y_{k},h)$."
   ]
  },
  {
   "cell_type": "markdown",
   "metadata": {},
   "source": [
    "#### Question 11\n",
    "Pour $t_{\\mathrm{max}}=120$ et différentes valeurs du pas de temps $h$, \n",
    "tracer les trajectoires \n",
    "$(x_k,y_k)_{0 \\leq k \\leq N} $\n",
    "pour différentes conditions initiales $(x(0),y(0))$, \n",
    "ainsi que les graphes de $x_k$, $y_k$ en fonction de $t_k$. \n",
    "Qu'observez-vous ? Comparer ces résultats à ceux\n",
    "de la question 6."
   ]
  },
  {
   "cell_type": "markdown",
   "metadata": {},
   "source": [
    "## 3. Modèle proies-prédateurs avec croissance limitée\n",
    "On considère l'équation différentielle:\n",
    "\\begin{equation}\n",
    "\\left\\{\n",
    "\\begin{array}{lll}\n",
    "x'(t)&=& x(t) ( 1- y(t) - c(t)\\, x(t)) \\\\\n",
    "y'(t) &=&  y(t)(x(t)  - 1)\n",
    "\\end{array}\n",
    "\\right.\n",
    "\\end{equation}\n",
    "où le coefficient $c(t)>0$ \n",
    "tient compte du fait que la population de proies est limitée par la quantité de nourriture.\n",
    "On suppose que la fonction $c$ est $T$-périodique\n",
    "(variations saisonnières des ressources) avec $T=12$ (l'unité de temps représente un mois).\n",
    "Dans ce TP on fixera \n",
    "$$\n",
    "c(t)=\\lambda\\, \\left(1+\\frac{1}{2}\\, \\cos{\\left( \\frac{\\pi}{6}\\, t \\right)}\\right),\n",
    "$$\n",
    "où $\\lambda >0$ est un paramètre.\n",
    "\n",
    "On discrétise l'équation différentielle par le\n",
    "schéma d'Euler semi-implicite\n",
    "\\begin{equation}\n",
    "\\left\\{\n",
    "\\begin{array}{lll}\n",
    "x_{k+1}-x_k&=&  h\\, x_{k} ( 1- y_{k+1} - c(t_k)\\, x_k) \\\\\n",
    "y_{k+1} -y_k&=&  h\\, y_{k+1} (x_{k}  - 1)\n",
    "\\end{array}\n",
    "\\right.\n",
    "\\end{equation}"
   ]
  },
  {
   "cell_type": "markdown",
   "metadata": {},
   "source": [
    "#### Question 12\n",
    "Exprimer  $(x_{k+1},y_{k+1})$ en fonction de $(t_k,x_k,y_{k},h)$."
   ]
  },
  {
   "cell_type": "markdown",
   "metadata": {},
   "source": [
    "#### Question 13\n",
    "On fixe $t_{\\mathrm{max}}=120$ et $h=10^{-3}$.\n",
    "Pour différentes valeurs du paramètre $\\lambda$,\n",
    "tracer les graphes de $x_k$, $y_k$ en fonction de $t_k$\n",
    "pour différentes conditions initiales $(x(0),y(0))$. \n",
    "Qu'observez-vous ? \n",
    "Interpréter le comportement des solutions lorsque\n",
    "$t\\rightarrow +\\infty$\n",
    "en terme d'évolution des populations, ainsi que l'effet du paramètre $\\lambda$."
   ]
  }
 ],
 "metadata": {
  "kernelspec": {
   "display_name": "Python 3 (ipykernel)",
   "language": "python",
   "name": "python3"
  },
  "language_info": {
   "codemirror_mode": {
    "name": "ipython",
    "version": 3
   },
   "file_extension": ".py",
   "mimetype": "text/x-python",
   "name": "python",
   "nbconvert_exporter": "python",
   "pygments_lexer": "ipython3",
   "version": "3.8.8"
  }
 },
 "nbformat": 4,
 "nbformat_minor": 2
}
